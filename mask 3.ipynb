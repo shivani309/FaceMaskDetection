{
 "cells": [
  {
   "cell_type": "markdown",
   "metadata": {},
   "source": [
    "# "
   ]
  },
  {
   "cell_type": "code",
   "execution_count": 2,
   "metadata": {},
   "outputs": [
    {
     "name": "stdout",
     "output_type": "stream",
     "text": [
      "Requirement already satisfied: opencv-python in c:\\users\\manish patil\\anaconda3\\lib\\site-packages (4.5.2.54)\n",
      "Requirement already satisfied: numpy>=1.14.5 in c:\\users\\manish patil\\anaconda3\\lib\\site-packages (from opencv-python) (1.16.5)\n"
     ]
    }
   ],
   "source": [
    "!pip install opencv-python"
   ]
  },
  {
   "cell_type": "code",
   "execution_count": 1,
   "metadata": {},
   "outputs": [],
   "source": [
    "import cv2"
   ]
  },
  {
   "cell_type": "code",
   "execution_count": 2,
   "metadata": {},
   "outputs": [],
   "source": [
    "img = cv2.imread('girl1.jpg')"
   ]
  },
  {
   "cell_type": "code",
   "execution_count": 3,
   "metadata": {},
   "outputs": [
    {
     "data": {
      "text/plain": [
       "(168, 301, 3)"
      ]
     },
     "execution_count": 3,
     "metadata": {},
     "output_type": "execute_result"
    }
   ],
   "source": [
    "img.shape"
   ]
  },
  {
   "cell_type": "code",
   "execution_count": 4,
   "metadata": {},
   "outputs": [
    {
     "data": {
      "text/plain": [
       "array([[158, 134, 110],\n",
       "       [158, 134, 110],\n",
       "       [158, 134, 110],\n",
       "       [158, 134, 110],\n",
       "       [158, 134, 110],\n",
       "       [158, 134, 110],\n",
       "       [158, 134, 110],\n",
       "       [158, 134, 110],\n",
       "       [157, 133, 109],\n",
       "       [157, 133, 109],\n",
       "       [157, 133, 109],\n",
       "       [157, 133, 109],\n",
       "       [157, 133, 109],\n",
       "       [157, 133, 109],\n",
       "       [157, 133, 109],\n",
       "       [157, 133, 109],\n",
       "       [157, 133, 109],\n",
       "       [157, 133, 109],\n",
       "       [157, 133, 109],\n",
       "       [157, 133, 109],\n",
       "       [157, 133, 109],\n",
       "       [157, 133, 109],\n",
       "       [157, 133, 109],\n",
       "       [157, 133, 109],\n",
       "       [157, 133, 109],\n",
       "       [157, 133, 109],\n",
       "       [157, 133, 109],\n",
       "       [157, 133, 109],\n",
       "       [157, 133, 109],\n",
       "       [157, 133, 109],\n",
       "       [157, 133, 109],\n",
       "       [157, 133, 109],\n",
       "       [158, 134, 110],\n",
       "       [158, 134, 110],\n",
       "       [158, 134, 110],\n",
       "       [158, 134, 110],\n",
       "       [158, 134, 110],\n",
       "       [158, 134, 110],\n",
       "       [158, 134, 110],\n",
       "       [158, 134, 110],\n",
       "       [158, 134, 110],\n",
       "       [158, 134, 110],\n",
       "       [158, 134, 110],\n",
       "       [158, 134, 110],\n",
       "       [158, 134, 110],\n",
       "       [158, 134, 110],\n",
       "       [158, 134, 110],\n",
       "       [158, 134, 110],\n",
       "       [158, 134, 110],\n",
       "       [158, 134, 110],\n",
       "       [158, 134, 110],\n",
       "       [158, 134, 110],\n",
       "       [158, 134, 110],\n",
       "       [158, 134, 110],\n",
       "       [158, 134, 110],\n",
       "       [158, 134, 110],\n",
       "       [158, 134, 110],\n",
       "       [158, 134, 110],\n",
       "       [158, 134, 110],\n",
       "       [158, 134, 110],\n",
       "       [158, 134, 110],\n",
       "       [158, 134, 110],\n",
       "       [158, 134, 110],\n",
       "       [158, 134, 110],\n",
       "       [157, 133, 109],\n",
       "       [157, 133, 109],\n",
       "       [157, 133, 109],\n",
       "       [157, 133, 109],\n",
       "       [157, 133, 109],\n",
       "       [157, 133, 109],\n",
       "       [157, 133, 109],\n",
       "       [157, 133, 109],\n",
       "       [158, 134, 110],\n",
       "       [158, 134, 110],\n",
       "       [158, 134, 110],\n",
       "       [158, 134, 110],\n",
       "       [158, 134, 110],\n",
       "       [158, 134, 110],\n",
       "       [158, 134, 110],\n",
       "       [158, 134, 110],\n",
       "       [158, 134, 110],\n",
       "       [158, 134, 110],\n",
       "       [158, 134, 110],\n",
       "       [158, 134, 110],\n",
       "       [158, 134, 110],\n",
       "       [158, 134, 110],\n",
       "       [158, 134, 110],\n",
       "       [158, 134, 110],\n",
       "       [158, 134, 110],\n",
       "       [158, 134, 110],\n",
       "       [158, 134, 110],\n",
       "       [158, 134, 110],\n",
       "       [158, 134, 110],\n",
       "       [158, 134, 110],\n",
       "       [158, 134, 110],\n",
       "       [157, 134, 112],\n",
       "       [152, 134, 117],\n",
       "       [152, 134, 117],\n",
       "       [156, 134, 116],\n",
       "       [159, 135, 113],\n",
       "       [162, 135, 109],\n",
       "       [164, 136, 106],\n",
       "       [166, 134, 105],\n",
       "       [164, 134, 105],\n",
       "       [169, 140, 113],\n",
       "       [156, 132, 108],\n",
       "       [153, 133, 116],\n",
       "       [151, 137, 125],\n",
       "       [134, 125, 121],\n",
       "       [110, 105, 106],\n",
       "       [100,  99, 108],\n",
       "       [106, 108, 119],\n",
       "       [108, 111, 125],\n",
       "       [ 93,  98, 113],\n",
       "       [ 74,  79,  94],\n",
       "       [ 58,  63,  78],\n",
       "       [ 49,  55,  68],\n",
       "       [ 47,  53,  66],\n",
       "       [ 50,  53,  67],\n",
       "       [ 51,  54,  68],\n",
       "       [ 55,  57,  68],\n",
       "       [ 49,  51,  62],\n",
       "       [ 43,  45,  55],\n",
       "       [ 40,  42,  52],\n",
       "       [ 33,  34,  44],\n",
       "       [ 22,  23,  33],\n",
       "       [ 17,  18,  28],\n",
       "       [ 18,  19,  29],\n",
       "       [ 22,  24,  32],\n",
       "       [ 22,  24,  32],\n",
       "       [ 20,  23,  31],\n",
       "       [ 20,  23,  31],\n",
       "       [ 17,  22,  31],\n",
       "       [ 16,  21,  30],\n",
       "       [ 14,  20,  31],\n",
       "       [ 13,  19,  30],\n",
       "       [ 14,  21,  36],\n",
       "       [ 11,  20,  34],\n",
       "       [ 17,  25,  42],\n",
       "       [ 29,  39,  56],\n",
       "       [ 37,  49,  67],\n",
       "       [ 42,  54,  72],\n",
       "       [ 50,  62,  80],\n",
       "       [ 60,  71,  91],\n",
       "       [ 50,  60,  84],\n",
       "       [ 46,  55,  82],\n",
       "       [ 53,  63,  87],\n",
       "       [ 63,  73,  97],\n",
       "       [ 96, 106, 130],\n",
       "       [138, 149, 171],\n",
       "       [ 98, 109, 131],\n",
       "       [ 81,  92, 112],\n",
       "       [ 64,  76,  94],\n",
       "       [ 39,  51,  69],\n",
       "       [ 46,  59,  75],\n",
       "       [ 59,  72,  88],\n",
       "       [ 36,  49,  63],\n",
       "       [ 34,  47,  61],\n",
       "       [  9,  22,  36],\n",
       "       [ 14,  25,  39],\n",
       "       [ 11,  18,  35],\n",
       "       [ 13,  17,  35],\n",
       "       [ 14,  17,  32],\n",
       "       [ 13,  16,  31],\n",
       "       [ 12,  15,  29],\n",
       "       [ 11,  14,  28],\n",
       "       [ 12,  14,  25],\n",
       "       [ 12,  14,  25],\n",
       "       [ 14,  15,  25],\n",
       "       [ 14,  16,  24],\n",
       "       [ 13,  15,  23],\n",
       "       [ 13,  16,  21],\n",
       "       [ 15,  16,  20],\n",
       "       [ 14,  15,  19],\n",
       "       [ 14,  15,  19],\n",
       "       [ 12,  15,  19],\n",
       "       [ 20,  24,  25],\n",
       "       [ 19,  24,  25],\n",
       "       [ 17,  24,  27],\n",
       "       [ 18,  25,  28],\n",
       "       [ 21,  27,  32],\n",
       "       [ 26,  32,  37],\n",
       "       [ 28,  35,  44],\n",
       "       [ 31,  38,  47],\n",
       "       [ 28,  34,  47],\n",
       "       [ 33,  39,  52],\n",
       "       [ 38,  45,  62],\n",
       "       [ 42,  49,  66],\n",
       "       [ 45,  51,  70],\n",
       "       [ 50,  56,  75],\n",
       "       [ 55,  62,  82],\n",
       "       [ 61,  67,  86],\n",
       "       [ 59,  60,  80],\n",
       "       [ 68,  68,  84],\n",
       "       [ 83,  80,  96],\n",
       "       [103,  99, 111],\n",
       "       [116, 108, 118],\n",
       "       [113, 103, 109],\n",
       "       [125, 113, 113],\n",
       "       [153, 138, 135],\n",
       "       [148, 133, 124],\n",
       "       [150, 134, 121],\n",
       "       [152, 133, 118],\n",
       "       [151, 134, 115],\n",
       "       [154, 134, 116],\n",
       "       [156, 137, 116],\n",
       "       [159, 138, 116],\n",
       "       [158, 137, 115],\n",
       "       [158, 134, 110],\n",
       "       [158, 134, 110],\n",
       "       [158, 134, 110],\n",
       "       [158, 134, 110],\n",
       "       [158, 134, 110],\n",
       "       [158, 134, 110],\n",
       "       [158, 134, 110],\n",
       "       [158, 134, 110],\n",
       "       [158, 134, 110],\n",
       "       [158, 134, 110],\n",
       "       [158, 134, 110],\n",
       "       [158, 134, 110],\n",
       "       [158, 134, 110],\n",
       "       [158, 134, 110],\n",
       "       [158, 134, 110],\n",
       "       [158, 134, 110],\n",
       "       [158, 134, 110],\n",
       "       [158, 134, 110],\n",
       "       [158, 134, 110],\n",
       "       [158, 134, 110],\n",
       "       [158, 134, 110],\n",
       "       [158, 134, 110],\n",
       "       [158, 134, 110],\n",
       "       [158, 134, 110],\n",
       "       [158, 134, 110],\n",
       "       [158, 134, 110],\n",
       "       [158, 134, 110],\n",
       "       [158, 134, 110],\n",
       "       [158, 134, 110],\n",
       "       [158, 134, 110],\n",
       "       [158, 134, 110],\n",
       "       [158, 134, 110],\n",
       "       [158, 134, 110],\n",
       "       [158, 134, 110],\n",
       "       [158, 134, 110],\n",
       "       [158, 134, 110],\n",
       "       [158, 134, 110],\n",
       "       [158, 134, 110],\n",
       "       [158, 134, 110],\n",
       "       [158, 134, 110],\n",
       "       [158, 134, 110],\n",
       "       [158, 134, 110],\n",
       "       [158, 134, 110],\n",
       "       [158, 134, 110],\n",
       "       [158, 134, 110],\n",
       "       [158, 134, 110],\n",
       "       [158, 134, 110],\n",
       "       [158, 134, 110],\n",
       "       [158, 134, 110],\n",
       "       [158, 134, 110],\n",
       "       [158, 134, 110],\n",
       "       [158, 134, 110],\n",
       "       [158, 134, 110],\n",
       "       [158, 134, 110],\n",
       "       [158, 134, 110],\n",
       "       [158, 134, 110],\n",
       "       [157, 133, 109],\n",
       "       [157, 133, 109],\n",
       "       [157, 133, 109],\n",
       "       [157, 133, 109],\n",
       "       [157, 133, 109],\n",
       "       [157, 133, 109],\n",
       "       [157, 133, 109],\n",
       "       [157, 133, 109],\n",
       "       [158, 134, 110],\n",
       "       [158, 134, 110],\n",
       "       [158, 134, 110],\n",
       "       [158, 134, 110],\n",
       "       [158, 134, 110],\n",
       "       [158, 134, 110],\n",
       "       [158, 134, 110],\n",
       "       [158, 134, 110],\n",
       "       [158, 134, 110],\n",
       "       [158, 134, 110],\n",
       "       [158, 134, 110],\n",
       "       [158, 134, 110],\n",
       "       [158, 134, 110],\n",
       "       [158, 134, 110],\n",
       "       [158, 134, 110],\n",
       "       [158, 134, 110],\n",
       "       [158, 134, 110],\n",
       "       [158, 134, 110],\n",
       "       [158, 134, 110],\n",
       "       [158, 134, 110],\n",
       "       [158, 134, 110],\n",
       "       [158, 134, 110],\n",
       "       [158, 134, 110],\n",
       "       [158, 134, 110],\n",
       "       [158, 134, 110],\n",
       "       [158, 134, 110],\n",
       "       [158, 134, 110],\n",
       "       [158, 134, 110],\n",
       "       [158, 134, 110]], dtype=uint8)"
      ]
     },
     "execution_count": 4,
     "metadata": {},
     "output_type": "execute_result"
    }
   ],
   "source": [
    "img[0]"
   ]
  },
  {
   "cell_type": "code",
   "execution_count": 5,
   "metadata": {},
   "outputs": [],
   "source": [
    "import matplotlib.pyplot as plt"
   ]
  },
  {
   "cell_type": "code",
   "execution_count": 6,
   "metadata": {},
   "outputs": [
    {
     "data": {
      "text/plain": [
       "<matplotlib.image.AxesImage at 0x1ff946c29c8>"
      ]
     },
     "execution_count": 6,
     "metadata": {},
     "output_type": "execute_result"
    },
    {
     "data": {
      "image/png": "[encoded data removed]",
      "text/plain": [
       "<Figure size 432x288 with 1 Axes>"
      ]
     },
     "metadata": {
      "needs_background": "light"
     },
     "output_type": "display_data"
    }
   ],
   "source": [
    "plt.imshow(img)"
   ]
  },
  {
   "cell_type": "code",
   "execution_count": null,
   "metadata": {},
   "outputs": [],
   "source": []
  },
  {
   "cell_type": "code",
   "execution_count": 7,
   "metadata": {},
   "outputs": [],
   "source": [
    "#import cv2"
   ]
  },
  {
   "cell_type": "code",
   "execution_count": 8,
   "metadata": {},
   "outputs": [],
   "source": [
    "#img = cv2.imread('img_2.jpg')"
   ]
  },
  {
   "cell_type": "code",
   "execution_count": 9,
   "metadata": {
    "scrolled": true
   },
   "outputs": [
    {
     "ename": "KeyboardInterrupt",
     "evalue": "",
     "output_type": "error",
     "traceback": [
      "\u001b[1;31m---------------------------------------------------------------------------\u001b[0m",
      "\u001b[1;31mKeyboardInterrupt\u001b[0m                         Traceback (most recent call last)",
      "\u001b[1;32m<ipython-input-9-a6b7f0fc02e5>\u001b[0m in \u001b[0;36m<module>\u001b[1;34m\u001b[0m\n\u001b[0;32m      2\u001b[0m     \u001b[0mcv2\u001b[0m\u001b[1;33m.\u001b[0m\u001b[0mimshow\u001b[0m\u001b[1;33m(\u001b[0m\u001b[1;34m'result'\u001b[0m\u001b[1;33m,\u001b[0m\u001b[0mimg\u001b[0m\u001b[1;33m)\u001b[0m\u001b[1;33m\u001b[0m\u001b[1;33m\u001b[0m\u001b[0m\n\u001b[0;32m      3\u001b[0m     \u001b[1;31m#27 ASCII OF Escape\u001b[0m\u001b[1;33m\u001b[0m\u001b[1;33m\u001b[0m\u001b[1;33m\u001b[0m\u001b[0m\n\u001b[1;32m----> 4\u001b[1;33m     \u001b[1;32mif\u001b[0m \u001b[0mcv2\u001b[0m\u001b[1;33m.\u001b[0m\u001b[0mwaitKey\u001b[0m\u001b[1;33m(\u001b[0m\u001b[1;36m2\u001b[0m\u001b[1;33m)\u001b[0m \u001b[1;33m==\u001b[0m \u001b[1;36m27\u001b[0m\u001b[1;33m:\u001b[0m\u001b[1;33m\u001b[0m\u001b[1;33m\u001b[0m\u001b[0m\n\u001b[0m\u001b[0;32m      5\u001b[0m         \u001b[1;32mbreak\u001b[0m\u001b[1;33m\u001b[0m\u001b[1;33m\u001b[0m\u001b[0m\n\u001b[0;32m      6\u001b[0m \u001b[0mcv2\u001b[0m\u001b[1;33m.\u001b[0m\u001b[0mdestroyAllWindows\u001b[0m\u001b[1;33m(\u001b[0m\u001b[1;33m)\u001b[0m\u001b[1;33m\u001b[0m\u001b[1;33m\u001b[0m\u001b[0m\n",
      "\u001b[1;31mKeyboardInterrupt\u001b[0m: "
     ]
    }
   ],
   "source": [
    "while True:\n",
    "    cv2.imshow('result',img)\n",
    "    #27 ASCII OF Escape\n",
    "    if cv2.waitKey(2) == 27:\n",
    "        break\n",
    "cv2.destroyAllWindows() "
   ]
  },
  {
   "cell_type": "code",
   "execution_count": 10,
   "metadata": {},
   "outputs": [],
   "source": [
    "haar_data = cv2.CascadeClassifier('haarcascade_frontalface_default.xml')"
   ]
  },
  {
   "cell_type": "code",
   "execution_count": 11,
   "metadata": {},
   "outputs": [
    {
     "data": {
      "text/plain": [
       "array([[ 91,  31, 127, 127]], dtype=int32)"
      ]
     },
     "execution_count": 11,
     "metadata": {},
     "output_type": "execute_result"
    }
   ],
   "source": [
    "haar_data.detectMultiScale(img)"
   ]
  },
  {
   "cell_type": "code",
   "execution_count": 12,
   "metadata": {},
   "outputs": [
    {
     "ename": "KeyboardInterrupt",
     "evalue": "",
     "output_type": "error",
     "traceback": [
      "\u001b[1;31m---------------------------------------------------------------------------\u001b[0m",
      "\u001b[1;31mKeyboardInterrupt\u001b[0m                         Traceback (most recent call last)",
      "\u001b[1;32m<ipython-input-12-e88b908b42c5>\u001b[0m in \u001b[0;36m<module>\u001b[1;34m\u001b[0m\n\u001b[0;32m      1\u001b[0m \u001b[1;32mwhile\u001b[0m \u001b[1;32mTrue\u001b[0m\u001b[1;33m:\u001b[0m\u001b[1;33m\u001b[0m\u001b[1;33m\u001b[0m\u001b[0m\n\u001b[1;32m----> 2\u001b[1;33m     \u001b[0mfaces\u001b[0m \u001b[1;33m=\u001b[0m \u001b[0mhaar_data\u001b[0m\u001b[1;33m.\u001b[0m\u001b[0mdetectMultiScale\u001b[0m\u001b[1;33m(\u001b[0m\u001b[0mimg\u001b[0m\u001b[1;33m)\u001b[0m\u001b[1;33m\u001b[0m\u001b[1;33m\u001b[0m\u001b[0m\n\u001b[0m\u001b[0;32m      3\u001b[0m     \u001b[1;32mfor\u001b[0m \u001b[0mx\u001b[0m\u001b[1;33m,\u001b[0m\u001b[0my\u001b[0m\u001b[1;33m,\u001b[0m\u001b[0mw\u001b[0m\u001b[1;33m,\u001b[0m\u001b[0mh\u001b[0m \u001b[1;32min\u001b[0m \u001b[0mfaces\u001b[0m\u001b[1;33m:\u001b[0m\u001b[1;33m\u001b[0m\u001b[1;33m\u001b[0m\u001b[0m\n\u001b[0;32m      4\u001b[0m         \u001b[0mcv2\u001b[0m\u001b[1;33m.\u001b[0m\u001b[0mrectangle\u001b[0m\u001b[1;33m(\u001b[0m\u001b[0mimg\u001b[0m\u001b[1;33m,\u001b[0m \u001b[1;33m(\u001b[0m\u001b[0mx\u001b[0m\u001b[1;33m,\u001b[0m\u001b[0my\u001b[0m\u001b[1;33m)\u001b[0m\u001b[1;33m,\u001b[0m\u001b[1;33m(\u001b[0m\u001b[0mx\u001b[0m\u001b[1;33m+\u001b[0m\u001b[0mw\u001b[0m\u001b[1;33m,\u001b[0m \u001b[0my\u001b[0m\u001b[1;33m+\u001b[0m\u001b[0mh\u001b[0m\u001b[1;33m)\u001b[0m\u001b[1;33m,\u001b[0m\u001b[1;33m(\u001b[0m\u001b[1;36m255\u001b[0m\u001b[1;33m,\u001b[0m\u001b[1;36m0\u001b[0m\u001b[1;33m,\u001b[0m\u001b[1;36m255\u001b[0m\u001b[1;33m)\u001b[0m\u001b[1;33m,\u001b[0m\u001b[1;36m4\u001b[0m\u001b[1;33m)\u001b[0m\u001b[1;33m\u001b[0m\u001b[1;33m\u001b[0m\u001b[0m\n\u001b[0;32m      5\u001b[0m     \u001b[0mcv2\u001b[0m\u001b[1;33m.\u001b[0m\u001b[0mimshow\u001b[0m\u001b[1;33m(\u001b[0m\u001b[1;34m'result'\u001b[0m\u001b[1;33m,\u001b[0m\u001b[0mimg\u001b[0m\u001b[1;33m)\u001b[0m\u001b[1;33m\u001b[0m\u001b[1;33m\u001b[0m\u001b[0m\n",
      "\u001b[1;31mKeyboardInterrupt\u001b[0m: "
     ]
    }
   ],
   "source": [
    "while True:\n",
    "    faces = haar_data.detectMultiScale(img)\n",
    "    for x,y,w,h in faces:\n",
    "        cv2.rectangle(img, (x,y),(x+w, y+h),(255,0,255),4)\n",
    "    cv2.imshow('result',img)\n",
    "    #27 ASCII OF Escape\n",
    "    if cv2.waitKey(2) == 27:\n",
    "        break\n",
    "cv2.destroyAllWindows()        "
   ]
  },
  {
   "cell_type": "code",
   "execution_count": 18,
   "metadata": {},
   "outputs": [
    {
     "name": "stdout",
     "output_type": "stream",
     "text": [
      "0\n",
      "1\n",
      "2\n",
      "3\n",
      "4\n",
      "5\n",
      "6\n",
      "7\n",
      "8\n",
      "9\n",
      "10\n",
      "11\n",
      "12\n",
      "13\n",
      "14\n",
      "15\n",
      "16\n",
      "17\n",
      "18\n",
      "19\n",
      "20\n",
      "21\n",
      "22\n",
      "23\n",
      "24\n",
      "25\n",
      "26\n",
      "27\n",
      "28\n",
      "29\n",
      "30\n",
      "31\n",
      "32\n",
      "33\n",
      "34\n",
      "35\n",
      "36\n",
      "37\n",
      "38\n",
      "39\n",
      "40\n",
      "41\n",
      "42\n",
      "43\n",
      "44\n",
      "45\n",
      "46\n",
      "47\n",
      "48\n",
      "49\n",
      "50\n",
      "51\n",
      "52\n",
      "53\n",
      "54\n",
      "55\n",
      "56\n",
      "57\n",
      "58\n",
      "59\n",
      "60\n",
      "61\n",
      "62\n",
      "63\n",
      "64\n",
      "65\n",
      "66\n",
      "67\n",
      "68\n",
      "69\n",
      "70\n",
      "71\n",
      "72\n",
      "73\n",
      "74\n",
      "75\n",
      "76\n",
      "77\n",
      "78\n",
      "79\n",
      "80\n",
      "81\n",
      "82\n",
      "83\n",
      "84\n",
      "85\n",
      "86\n",
      "87\n",
      "88\n",
      "89\n",
      "90\n",
      "91\n",
      "92\n",
      "93\n",
      "94\n",
      "95\n",
      "96\n",
      "97\n",
      "98\n",
      "99\n",
      "100\n",
      "101\n",
      "102\n",
      "103\n",
      "104\n",
      "105\n",
      "106\n",
      "107\n",
      "108\n",
      "109\n",
      "110\n",
      "111\n",
      "112\n",
      "113\n",
      "114\n",
      "115\n",
      "116\n",
      "117\n",
      "118\n",
      "119\n",
      "120\n",
      "121\n",
      "122\n",
      "123\n",
      "124\n",
      "125\n",
      "126\n",
      "127\n",
      "128\n",
      "129\n",
      "130\n",
      "131\n",
      "132\n",
      "133\n",
      "134\n",
      "135\n",
      "136\n",
      "137\n",
      "138\n",
      "139\n",
      "140\n",
      "141\n",
      "142\n",
      "143\n",
      "144\n",
      "145\n",
      "146\n",
      "147\n",
      "148\n",
      "149\n",
      "150\n",
      "151\n",
      "152\n",
      "153\n",
      "154\n",
      "155\n",
      "156\n",
      "157\n",
      "158\n",
      "159\n",
      "160\n",
      "161\n",
      "162\n",
      "163\n",
      "164\n",
      "165\n",
      "166\n",
      "167\n",
      "168\n",
      "169\n",
      "170\n",
      "171\n",
      "172\n",
      "173\n",
      "174\n",
      "175\n",
      "176\n",
      "177\n",
      "178\n",
      "179\n",
      "180\n",
      "181\n",
      "182\n",
      "183\n",
      "184\n",
      "185\n",
      "186\n",
      "187\n",
      "188\n",
      "189\n",
      "190\n",
      "191\n",
      "192\n",
      "193\n",
      "194\n",
      "195\n",
      "196\n",
      "197\n",
      "198\n",
      "199\n"
     ]
    }
   ],
   "source": [
    "capture = cv2.VideoCapture(0)\n",
    "data=[]\n",
    "while True:\n",
    "    flag, img= capture.read()\n",
    "    if flag:\n",
    "        faces = haar_data.detectMultiScale(img)\n",
    "        for x,y,w,h in faces:\n",
    "            cv2.rectangle(img, (x,y),(x+w, y+h),(255,0,255),4)\n",
    "            face = img[y:y+h, x:x+w, :]\n",
    "            face= cv2.resize(face,(50,50))\n",
    "            print(len(data))\n",
    "            if len(data)<400:\n",
    "                data.append(face)\n",
    "        cv2.imshow('result',img)\n",
    "        \n",
    "        #27 ASCII OF Escape\n",
    "        if cv2.waitKey(2) == 27 or len(data) >=200:\n",
    "            break\n",
    "            \n",
    "capture.release()\n",
    "cv2.destroyAllWindows()\n",
    "            "
   ]
  },
  {
   "cell_type": "code",
   "execution_count": 15,
   "metadata": {},
   "outputs": [],
   "source": [
    "import numpy as np"
   ]
  },
  {
   "cell_type": "code",
   "execution_count": 16,
   "metadata": {},
   "outputs": [],
   "source": [
    "np.save('without_mask1.npy',data)"
   ]
  },
  {
   "cell_type": "code",
   "execution_count": 19,
   "metadata": {},
   "outputs": [],
   "source": [
    "np.save('with_mask.npy',data)"
   ]
  },
  {
   "cell_type": "code",
   "execution_count": 20,
   "metadata": {},
   "outputs": [
    {
     "data": {
      "text/plain": [
       "<matplotlib.image.AxesImage at 0x1ffa16e1148>"
      ]
     },
     "execution_count": 20,
     "metadata": {},
     "output_type": "execute_result"
    },
    {
     "data": {
      "image/png": "[encoded data removed]",
      "text/plain": [
       "<Figure size 432x288 with 1 Axes>"
      ]
     },
     "metadata": {
      "needs_background": "light"
     },
     "output_type": "display_data"
    }
   ],
   "source": [
    "plt.imshow(data[0])"
   ]
  },
  {
   "cell_type": "code",
   "execution_count": null,
   "metadata": {},
   "outputs": [],
   "source": []
  },
  {
   "cell_type": "code",
   "execution_count": null,
   "metadata": {},
   "outputs": [],
   "source": []
  }
 ],
 "metadata": {
  "kernelspec": {
   "display_name": "Python 3",
   "language": "python",
   "name": "python3"
  },
  "language_info": {
   "codemirror_mode": {
    "name": "ipython",
    "version": 3
   },
   "file_extension": ".py",
   "mimetype": "text/x-python",
   "name": "python",
   "nbconvert_exporter": "python",
   "pygments_lexer": "ipython3",
   "version": "3.7.4"
  }
 },
 "nbformat": 4,
 "nbformat_minor": 5
}
